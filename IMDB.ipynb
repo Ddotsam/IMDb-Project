{
 "cells": [
  {
   "cell_type": "code",
   "execution_count": 14,
   "id": "84dcf341",
   "metadata": {
    "ExecuteTime": {
     "end_time": "2023-04-14T18:01:50.425706Z",
     "start_time": "2023-04-14T18:01:50.417822Z"
    }
   },
   "outputs": [],
   "source": [
    "import pandas as pd\n",
    "import os\n",
    "import numpy as np\n",
    "import xlsxwriter\n",
    "from IPython.display import Audio\n",
    "sound_file = '../soundFiles/cat_fight.wav'"
   ]
  },
  {
   "cell_type": "code",
   "execution_count": 12,
   "id": "b44b270c",
   "metadata": {
    "ExecuteTime": {
     "end_time": "2023-04-14T17:58:59.527027Z",
     "start_time": "2023-04-14T17:58:59.508226Z"
    }
   },
   "outputs": [],
   "source": [
    "def IMDB_to_Excel(df, POS_name, directory):\n",
    "    # Get all the unique years\n",
    "    years = df.year.unique()\n",
    "\n",
    "    # Create a new workbook and add the first worksheet\n",
    "    workbook = xlsxwriter.Workbook(directory + '/' + POS_name + '_by_year.xlsx')\n",
    "    \n",
    "    # Create format objects for the tan and normal columns\n",
    "    tan_format = workbook.add_format({'bg_color': '#DDD9C4', 'border': 1})\n",
    "    norm_format = workbook.add_format({'border': 1})\n",
    "    norm_merge_format = workbook.add_format({'align': 'center', 'valign': 'vcenter'})\n",
    "    tan_merge_format = workbook.add_format({'align': 'center', 'valign': 'vcenter', 'bg_color': '#DDD9C4'})\n",
    "\n",
    "    # Initialize counter variables\n",
    "    years_counter = 0\n",
    "    start_year = years[0]\n",
    "    start_column = 0  # Initialize start column to 0\n",
    "\n",
    "    # Set the format for each column, alternating between tan and normal\n",
    "    for i in range(len(years)):\n",
    "        if years_counter % 19 == 0:\n",
    "            if i+19 <= len(years):\n",
    "                end_year = years[i+18]\n",
    "            else:\n",
    "                end_year = years[-1]\n",
    "            worksheet_name = str(start_year) + '-' + str(end_year)\n",
    "            start_year = end_year + 1\n",
    "            worksheet = workbook.add_worksheet(worksheet_name)\n",
    "            start_column = 0  # Set start column to 0 for each sheet\n",
    "        if i % 2 == 0:\n",
    "            worksheet.set_column(start_column, start_column+1, None, tan_format)  # Use start_column variable\n",
    "            worksheet.merge_range(0, start_column, 0, start_column+1, years[i], tan_merge_format)  # Use start_column variable\n",
    "        else:\n",
    "            worksheet.set_column(start_column, start_column+1, None, norm_format)  # Use start_column variable\n",
    "            worksheet.merge_range(0, start_column, 0, start_column+1, years[i], norm_merge_format)  # Use start_column variable\n",
    "        year_filter = (df['year'] == years[i]) & (df['freq'] != 0)\n",
    "        year_data = df[year_filter][['POS', 'freq']]\n",
    "        year_data = year_data.sort_values('freq', ascending = False)\n",
    "        for j, year in enumerate(year_data['POS']):\n",
    "            worksheet.write(j+1, start_column, year_data.iloc[j]['POS'])  # Use start_column variable\n",
    "            worksheet.write(j+1, start_column+1, year_data.iloc[j]['freq'])  # Use start_column variable\n",
    "        years_counter += 1\n",
    "        start_column += 2  # Increment start column by 2 for each year\n",
    "\n",
    "    worksheet.freeze_panes(1, 0)\n",
    "    workbook.close()"
   ]
  },
  {
   "cell_type": "code",
   "execution_count": 13,
   "id": "7f140937",
   "metadata": {
    "ExecuteTime": {
     "end_time": "2023-04-14T18:01:18.939715Z",
     "start_time": "2023-04-14T17:59:01.247047Z"
    }
   },
   "outputs": [
    {
     "name": "stdout",
     "output_type": "stream",
     "text": [
      "finished adverbs\n",
      "finished verbs\n",
      "finished adjectives\n",
      "finished lemmas\n",
      "finished nouns\n"
     ]
    }
   ],
   "source": [
    "directory = \"Jesse_stuff\"\n",
    "columns = ['POS', 'year', 'freq', 'freqPerMil', 'totalFreqPerYear']\n",
    "for filename in os.listdir(directory):\n",
    "    POS_name = filename.split('_')[1].split('.')[0]\n",
    "    df = pd.read_table(directory+'/'+filename, names = columns)\n",
    "    IMDB_to_Excel(df, POS_name, \"POS_counts_by_year\")\n",
    "    print(f'finished {POS_name}')\n",
    "Audio(sound_file, autoplay=True)"
   ]
  }
 ],
 "metadata": {
  "kernelspec": {
   "display_name": "Python 3 (ipykernel)",
   "language": "python",
   "name": "python3"
  },
  "language_info": {
   "codemirror_mode": {
    "name": "ipython",
    "version": 3
   },
   "file_extension": ".py",
   "mimetype": "text/x-python",
   "name": "python",
   "nbconvert_exporter": "python",
   "pygments_lexer": "ipython3",
   "version": "3.8.10"
  }
 },
 "nbformat": 4,
 "nbformat_minor": 5
}
